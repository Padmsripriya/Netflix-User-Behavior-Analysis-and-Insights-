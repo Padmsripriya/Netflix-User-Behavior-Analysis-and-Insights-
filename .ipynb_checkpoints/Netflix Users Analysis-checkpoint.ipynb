{
 "cells": [
  {
   "cell_type": "code",
   "execution_count": 7,
   "id": "3690dd6a-5683-4611-a398-f22034fcdb06",
   "metadata": {},
   "outputs": [],
   "source": [
    "import pandas as pd\n",
    "import matplotlib.pyplot as plt\n",
    "import seaborn as sns\n",
    "\n",
    "# Loading the dataset\n",
    "file_path =  \"netflix_users.csv\" \n",
    "df = pd.read_csv(file_path)\n"
   ]
  },
  {
   "cell_type": "code",
   "execution_count": 9,
   "id": "b9aa1b9b-d752-4771-8400-0c40e01cc002",
   "metadata": {},
   "outputs": [
    {
     "data": {
      "text/html": [
       "<div>\n",
       "<style scoped>\n",
       "    .dataframe tbody tr th:only-of-type {\n",
       "        vertical-align: middle;\n",
       "    }\n",
       "\n",
       "    .dataframe tbody tr th {\n",
       "        vertical-align: top;\n",
       "    }\n",
       "\n",
       "    .dataframe thead th {\n",
       "        text-align: right;\n",
       "    }\n",
       "</style>\n",
       "<table border=\"1\" class=\"dataframe\">\n",
       "  <thead>\n",
       "    <tr style=\"text-align: right;\">\n",
       "      <th></th>\n",
       "      <th>User_ID</th>\n",
       "      <th>Name</th>\n",
       "      <th>Age</th>\n",
       "      <th>Country</th>\n",
       "      <th>Subscription_Type</th>\n",
       "      <th>Watch_Time_Hours</th>\n",
       "      <th>Favorite_Genre</th>\n",
       "      <th>Last_Login</th>\n",
       "    </tr>\n",
       "  </thead>\n",
       "  <tbody>\n",
       "    <tr>\n",
       "      <th>5716</th>\n",
       "      <td>5717</td>\n",
       "      <td>Chris Hernandez</td>\n",
       "      <td>32</td>\n",
       "      <td>Canada</td>\n",
       "      <td>Premium</td>\n",
       "      <td>680.43</td>\n",
       "      <td>Sci-Fi</td>\n",
       "      <td>2024-09-10</td>\n",
       "    </tr>\n",
       "    <tr>\n",
       "      <th>488</th>\n",
       "      <td>489</td>\n",
       "      <td>Jane Martinez</td>\n",
       "      <td>23</td>\n",
       "      <td>Brazil</td>\n",
       "      <td>Standard</td>\n",
       "      <td>150.40</td>\n",
       "      <td>Romance</td>\n",
       "      <td>2024-11-24</td>\n",
       "    </tr>\n",
       "    <tr>\n",
       "      <th>2302</th>\n",
       "      <td>2303</td>\n",
       "      <td>Michael Johnson</td>\n",
       "      <td>63</td>\n",
       "      <td>India</td>\n",
       "      <td>Basic</td>\n",
       "      <td>759.51</td>\n",
       "      <td>Romance</td>\n",
       "      <td>2024-04-09</td>\n",
       "    </tr>\n",
       "    <tr>\n",
       "      <th>3808</th>\n",
       "      <td>3809</td>\n",
       "      <td>Alex Smith</td>\n",
       "      <td>60</td>\n",
       "      <td>Brazil</td>\n",
       "      <td>Standard</td>\n",
       "      <td>90.00</td>\n",
       "      <td>Action</td>\n",
       "      <td>2024-05-14</td>\n",
       "    </tr>\n",
       "    <tr>\n",
       "      <th>4665</th>\n",
       "      <td>4666</td>\n",
       "      <td>Chris Davis</td>\n",
       "      <td>56</td>\n",
       "      <td>Canada</td>\n",
       "      <td>Premium</td>\n",
       "      <td>514.86</td>\n",
       "      <td>Drama</td>\n",
       "      <td>2024-08-13</td>\n",
       "    </tr>\n",
       "  </tbody>\n",
       "</table>\n",
       "</div>"
      ],
      "text/plain": [
       "      User_ID             Name  Age Country Subscription_Type  \\\n",
       "5716     5717  Chris Hernandez   32  Canada           Premium   \n",
       "488       489    Jane Martinez   23  Brazil          Standard   \n",
       "2302     2303  Michael Johnson   63   India             Basic   \n",
       "3808     3809       Alex Smith   60  Brazil          Standard   \n",
       "4665     4666      Chris Davis   56  Canada           Premium   \n",
       "\n",
       "      Watch_Time_Hours Favorite_Genre  Last_Login  \n",
       "5716            680.43         Sci-Fi  2024-09-10  \n",
       "488             150.40        Romance  2024-11-24  \n",
       "2302            759.51        Romance  2024-04-09  \n",
       "3808             90.00         Action  2024-05-14  \n",
       "4665            514.86          Drama  2024-08-13  "
      ]
     },
     "execution_count": 9,
     "metadata": {},
     "output_type": "execute_result"
    }
   ],
   "source": [
    "df.sample(5) "
   ]
  },
  {
   "cell_type": "code",
   "execution_count": 11,
   "id": "9aa15921-9203-4e85-8db9-fb12b7213f95",
   "metadata": {},
   "outputs": [
    {
     "name": "stdout",
     "output_type": "stream",
     "text": [
      "<class 'pandas.core.frame.DataFrame'>\n",
      "RangeIndex: 25000 entries, 0 to 24999\n",
      "Data columns (total 8 columns):\n",
      " #   Column             Non-Null Count  Dtype  \n",
      "---  ------             --------------  -----  \n",
      " 0   User_ID            25000 non-null  int64  \n",
      " 1   Name               25000 non-null  object \n",
      " 2   Age                25000 non-null  int64  \n",
      " 3   Country            25000 non-null  object \n",
      " 4   Subscription_Type  25000 non-null  object \n",
      " 5   Watch_Time_Hours   25000 non-null  float64\n",
      " 6   Favorite_Genre     25000 non-null  object \n",
      " 7   Last_Login         25000 non-null  object \n",
      "dtypes: float64(1), int64(2), object(5)\n",
      "memory usage: 1.5+ MB\n"
     ]
    }
   ],
   "source": [
    "# Understanding the dataset\n",
    "df.info()"
   ]
  },
  {
   "cell_type": "code",
   "execution_count": 13,
   "id": "3a77b53a-a5c5-4705-a49c-ca743bb992b1",
   "metadata": {},
   "outputs": [
    {
     "data": {
      "text/plain": [
       "User_ID              25000\n",
       "Name                   100\n",
       "Age                     68\n",
       "Country                 10\n",
       "Subscription_Type        3\n",
       "Watch_Time_Hours     22087\n",
       "Favorite_Genre           7\n",
       "Last_Login             366\n",
       "dtype: int64"
      ]
     },
     "execution_count": 13,
     "metadata": {},
     "output_type": "execute_result"
    }
   ],
   "source": [
    "df.nunique()"
   ]
  },
  {
   "cell_type": "code",
   "execution_count": 15,
   "id": "6a16ab79-e98b-4939-b743-9c47085e925a",
   "metadata": {},
   "outputs": [
    {
     "data": {
      "text/html": [
       "<div>\n",
       "<style scoped>\n",
       "    .dataframe tbody tr th:only-of-type {\n",
       "        vertical-align: middle;\n",
       "    }\n",
       "\n",
       "    .dataframe tbody tr th {\n",
       "        vertical-align: top;\n",
       "    }\n",
       "\n",
       "    .dataframe thead th {\n",
       "        text-align: right;\n",
       "    }\n",
       "</style>\n",
       "<table border=\"1\" class=\"dataframe\">\n",
       "  <thead>\n",
       "    <tr style=\"text-align: right;\">\n",
       "      <th></th>\n",
       "      <th>User_ID</th>\n",
       "      <th>Age</th>\n",
       "      <th>Watch_Time_Hours</th>\n",
       "    </tr>\n",
       "  </thead>\n",
       "  <tbody>\n",
       "    <tr>\n",
       "      <th>count</th>\n",
       "      <td>25000.000000</td>\n",
       "      <td>25000.000000</td>\n",
       "      <td>25000.000000</td>\n",
       "    </tr>\n",
       "    <tr>\n",
       "      <th>mean</th>\n",
       "      <td>12500.500000</td>\n",
       "      <td>46.482880</td>\n",
       "      <td>500.468858</td>\n",
       "    </tr>\n",
       "    <tr>\n",
       "      <th>std</th>\n",
       "      <td>7217.022701</td>\n",
       "      <td>19.594861</td>\n",
       "      <td>286.381815</td>\n",
       "    </tr>\n",
       "    <tr>\n",
       "      <th>min</th>\n",
       "      <td>1.000000</td>\n",
       "      <td>13.000000</td>\n",
       "      <td>0.120000</td>\n",
       "    </tr>\n",
       "    <tr>\n",
       "      <th>25%</th>\n",
       "      <td>6250.750000</td>\n",
       "      <td>29.000000</td>\n",
       "      <td>256.567500</td>\n",
       "    </tr>\n",
       "    <tr>\n",
       "      <th>50%</th>\n",
       "      <td>12500.500000</td>\n",
       "      <td>46.000000</td>\n",
       "      <td>501.505000</td>\n",
       "    </tr>\n",
       "    <tr>\n",
       "      <th>75%</th>\n",
       "      <td>18750.250000</td>\n",
       "      <td>63.000000</td>\n",
       "      <td>745.732500</td>\n",
       "    </tr>\n",
       "    <tr>\n",
       "      <th>max</th>\n",
       "      <td>25000.000000</td>\n",
       "      <td>80.000000</td>\n",
       "      <td>999.990000</td>\n",
       "    </tr>\n",
       "  </tbody>\n",
       "</table>\n",
       "</div>"
      ],
      "text/plain": [
       "            User_ID           Age  Watch_Time_Hours\n",
       "count  25000.000000  25000.000000      25000.000000\n",
       "mean   12500.500000     46.482880        500.468858\n",
       "std     7217.022701     19.594861        286.381815\n",
       "min        1.000000     13.000000          0.120000\n",
       "25%     6250.750000     29.000000        256.567500\n",
       "50%    12500.500000     46.000000        501.505000\n",
       "75%    18750.250000     63.000000        745.732500\n",
       "max    25000.000000     80.000000        999.990000"
      ]
     },
     "execution_count": 15,
     "metadata": {},
     "output_type": "execute_result"
    }
   ],
   "source": [
    "df.describe()"
   ]
  },
  {
   "cell_type": "code",
   "execution_count": 17,
   "id": "d3126c2d-adfe-488b-a53e-b42e90c4759f",
   "metadata": {},
   "outputs": [
    {
     "data": {
      "text/plain": [
       "User_ID              0\n",
       "Name                 0\n",
       "Age                  0\n",
       "Country              0\n",
       "Subscription_Type    0\n",
       "Watch_Time_Hours     0\n",
       "Favorite_Genre       0\n",
       "Last_Login           0\n",
       "dtype: int64"
      ]
     },
     "execution_count": 17,
     "metadata": {},
     "output_type": "execute_result"
    }
   ],
   "source": [
    "# Checking for Missing Values\n",
    "df.isnull().sum()"
   ]
  },
  {
   "cell_type": "code",
   "execution_count": 19,
   "id": "ca0fd6f7-354d-4160-a8cf-227332c419b0",
   "metadata": {},
   "outputs": [
    {
     "name": "stdout",
     "output_type": "stream",
     "text": [
      "Subscription_Type\n",
      "Basic       502.994617\n",
      "Premium     501.409387\n",
      "Standard    496.949376\n",
      "Name: Watch_Time_Hours, dtype: float64\n"
     ]
    }
   ],
   "source": [
    "# Avg Watch-time of each subscription type\n",
    "print(df.groupby('Subscription_Type')['Watch_Time_Hours'].mean())"
   ]
  },
  {
   "cell_type": "code",
   "execution_count": 21,
   "id": "3a25ae4e-b789-49b0-a89a-93d7a3097279",
   "metadata": {},
   "outputs": [
    {
     "name": "stdout",
     "output_type": "stream",
     "text": [
      "Favorite_Genre\n",
      "Horror         3654\n",
      "Documentary    3636\n",
      "Action         3589\n",
      "Romance        3572\n",
      "Comedy         3561\n",
      "Drama          3533\n",
      "Sci-Fi         3455\n",
      "Name: count, dtype: int64\n"
     ]
    }
   ],
   "source": [
    "# Number of users watching each Genre\n",
    "print(df['Favorite_Genre'].value_counts())"
   ]
  },
  {
   "cell_type": "code",
   "execution_count": 23,
   "id": "b4a19a35-01ee-4bcb-8551-08b9a9f35055",
   "metadata": {},
   "outputs": [
    {
     "name": "stdout",
     "output_type": "stream",
     "text": [
      "Oldest user age: 80\n",
      "Youngest user age: 13\n"
     ]
    }
   ],
   "source": [
    "# Oldest and youngest user age\n",
    "print(f\"Oldest user age: {df['Age'].max()}\")\n",
    "print(f\"Youngest user age: {df['Age'].min()}\")"
   ]
  },
  {
   "cell_type": "code",
   "execution_count": 25,
   "id": "1ff421d0-eaaf-4dd0-a967-2c2b798fcea6",
   "metadata": {},
   "outputs": [
    {
     "name": "stdout",
     "output_type": "stream",
     "text": [
      "Number of inactive users: 18220\n"
     ]
    }
   ],
   "source": [
    "# Number of inactive users since Dec 2024\n",
    "df['Last_Login'] = pd.to_datetime(df['Last_Login'])  # Convert to datetime\n",
    "inactive_users = df[df['Last_Login'] < '2024-12-01']  # Users who haven't logged in since Dec 2024\n",
    "print(f\"Number of inactive users: {len(inactive_users)}\")\n"
   ]
  },
  {
   "cell_type": "code",
   "execution_count": 27,
   "id": "1eb345f5-7860-4294-9ee1-f046d044ad07",
   "metadata": {},
   "outputs": [
    {
     "name": "stdout",
     "output_type": "stream",
     "text": [
      "Number of inactive users by Subscription Type:\n",
      "Subscription_Type\n",
      "Premium     6174\n",
      "Basic       6120\n",
      "Standard    5926\n",
      "Name: count, dtype: int64\n",
      "Total: 18220\n"
     ]
    }
   ],
   "source": [
    "# Number of inactive users since Dec 2024 in each subscription type\n",
    "inactive_by_subscription = inactive_users['Subscription_Type'].value_counts()\n",
    "verifying_total = inactive_users['Subscription_Type'].value_counts().sum()\n",
    "\n",
    "print(\"Number of inactive users by Subscription Type:\")\n",
    "print(inactive_by_subscription)\n",
    "print(\"Total:\", verifying_total)"
   ]
  },
  {
   "cell_type": "code",
   "execution_count": 29,
   "id": "e2f9850a-723a-47ca-a450-08c14de863f5",
   "metadata": {},
   "outputs": [
    {
     "name": "stdout",
     "output_type": "stream",
     "text": [
      "Country\n",
      "UK         2592\n",
      "Germany    2547\n",
      "India      2505\n",
      "USA        2503\n",
      "Brazil     2503\n",
      "Name: count, dtype: int64\n"
     ]
    }
   ],
   "source": [
    "# Number of users from each country\n",
    "print(df['Country'].value_counts().head(5))"
   ]
  },
  {
   "cell_type": "code",
   "execution_count": 31,
   "id": "e2e71ef0-40ec-42b4-a6e7-950fc0d22d84",
   "metadata": {},
   "outputs": [
    {
     "name": "stdout",
     "output_type": "stream",
     "text": [
      "Age_Group\n",
      "Teen           492.229237\n",
      "Young Adult    498.340654\n",
      "Adult          501.478077\n",
      "Senior         502.302731\n",
      "Name: Watch_Time_Hours, dtype: float64\n"
     ]
    }
   ],
   "source": [
    "# Average watch time per group (divided based on age)\n",
    "df['Age_Group'] = pd.cut(df['Age'], bins=[0, 18, 30, 50, 100], labels=['Teen', 'Young Adult', 'Adult', 'Senior'])\n",
    "print(df.groupby('Age_Group', observed=False)['Watch_Time_Hours'].mean())"
   ]
  },
  {
   "cell_type": "code",
   "execution_count": 33,
   "id": "f5108978-d21f-4662-9e48-b81bbe8df5fe",
   "metadata": {},
   "outputs": [
    {
     "data": {
      "image/png": "[encoded data removed]",
      "text/plain": [
       "<Figure size 800x400 with 1 Axes>"
      ]
     },
     "metadata": {},
     "output_type": "display_data"
    }
   ],
   "source": [
    "# Setting up the plotting area\n",
    "plt.figure(figsize=(8, 4))\n",
    "\n",
    "# Count plot for Country and Subscription_Type\n",
    "\n",
    "ax1 = sns.countplot(data=df, x='Country', order=df['Country'].value_counts().index)\n",
    "for p in ax1.patches:\n",
    "    ax1.annotate(f'{p.get_height()}', (p.get_x() + p.get_width() / 2, p.get_height()), \n",
    "                ha='center', va='bottom', fontsize=7, fontweight='light')\n",
    "\n",
    "plt.title('Count of Users by Country')\n",
    "plt.xlabel('Country')\n",
    "plt.ylabel('Count')\n",
    "plt.xticks(rotation=45)\n",
    "plt.show()\n"
   ]
  },
  {
   "cell_type": "code",
   "execution_count": 35,
   "id": "dc03c90b-6288-499a-a3b7-d70e1c13eb26",
   "metadata": {},
   "outputs": [
    {
     "data": {
      "image/png": "[encoded data removed]",
      "text/plain": [
       "<Figure size 800x400 with 1 Axes>"
      ]
     },
     "metadata": {},
     "output_type": "display_data"
    }
   ],
   "source": [
    "# Count plot for Country and Subscription_Type\n",
    "plt.figure(figsize=(8, 4))\n",
    "# Adding labels on top of each bar\n",
    "ax2 = sns.countplot(data=df, x='Subscription_Type', order=df['Subscription_Type'].value_counts().index)\n",
    "for p in ax2.patches:\n",
    "    ax2.annotate(f'{p.get_height()}', (p.get_x() + p.get_width() /2, p.get_height()), \n",
    "                ha='center', va='bottom', fontsize=7, fontweight='light')\n",
    "    \n",
    "plt.title('Count of Users by Subscription Type')\n",
    "plt.xlabel('Subscription Type')\n",
    "plt.ylabel('Count')\n",
    "plt.show()"
   ]
  },
  {
   "cell_type": "code",
   "execution_count": 37,
   "id": "ad7d97a4-3273-4e18-abc0-7e20a02d6a1a",
   "metadata": {},
   "outputs": [
    {
     "data": {
      "image/png": "[encoded data removed]",
      "text/plain": [
       "<Figure size 800x400 with 1 Axes>"
      ]
     },
     "metadata": {},
     "output_type": "display_data"
    }
   ],
   "source": [
    " # distribution of users' ages for each favorite genre\n",
    "plt.figure(figsize=(8, 4))\n",
    "sns.boxplot(data=df, x='Favorite_Genre', y='Age')\n",
    "\n",
    "# Customize the plot\n",
    "plt.title('Age Distribution Across Favorite Genres')\n",
    "plt.xlabel('Favorite Genre')\n",
    "plt.ylabel('Age')\n",
    "plt.xticks(rotation=45)  # Rotate x labels for readability\n",
    "plt.show()"
   ]
  },
  {
   "cell_type": "code",
   "execution_count": null,
   "id": "1b219141-8574-4f58-b093-0246527e058a",
   "metadata": {},
   "outputs": [],
   "source": []
  }
 ],
 "metadata": {
  "kernelspec": {
   "display_name": "Python [conda env:base] *",
   "language": "python",
   "name": "conda-base-py"
  },
  "language_info": {
   "codemirror_mode": {
    "name": "ipython",
    "version": 3
   },
   "file_extension": ".py",
   "mimetype": "text/x-python",
   "name": "python",
   "nbconvert_exporter": "python",
   "pygments_lexer": "ipython3",
   "version": "3.12.7"
  }
 },
 "nbformat": 4,
 "nbformat_minor": 5
}
